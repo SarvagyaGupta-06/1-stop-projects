{
 "cells": [
  {
   "cell_type": "markdown",
   "id": "0542b39e",
   "metadata": {
    "execution": {
     "iopub.execute_input": "2022-01-04T18:33:44.705969Z",
     "iopub.status.busy": "2022-01-04T18:33:44.705545Z",
     "iopub.status.idle": "2022-01-04T18:33:44.710553Z",
     "shell.execute_reply": "2022-01-04T18:33:44.709319Z",
     "shell.execute_reply.started": "2022-01-04T18:33:44.705945Z"
    },
    "papermill": {
     "duration": 0.026992,
     "end_time": "2022-01-07T17:32:11.544579",
     "exception": false,
     "start_time": "2022-01-07T17:32:11.517587",
     "status": "completed"
    },
    "tags": []
   },
   "source": [
    "# Importing Libraries"
   ]
  },
  {
   "cell_type": "code",
   "execution_count": 1,
   "id": "cf410591",
   "metadata": {
    "execution": {
     "iopub.execute_input": "2022-01-07T17:32:11.602669Z",
     "iopub.status.busy": "2022-01-07T17:32:11.601112Z",
     "iopub.status.idle": "2022-01-07T17:32:13.137100Z",
     "shell.execute_reply": "2022-01-07T17:32:13.137532Z",
     "shell.execute_reply.started": "2022-01-07T17:13:50.890953Z"
    },
    "papermill": {
     "duration": 1.565896,
     "end_time": "2022-01-07T17:32:13.137831",
     "exception": false,
     "start_time": "2022-01-07T17:32:11.571935",
     "status": "completed"
    },
    "tags": []
   },
   "outputs": [],
   "source": [
    "import pandas as pd\n",
    "import numpy as np\n",
    "import seaborn as sns\n",
    "import matplotlib.pyplot as plt\n",
    "\n",
    "import re\n",
    "import string\n",
    "\n",
    "from nltk.tokenize import word_tokenize\n",
    "from nltk.stem.snowball import SnowballStemmer\n",
    "from nltk.corpus import stopwords\n",
    "\n",
    "from sklearn.model_selection import train_test_split\n",
    "from sklearn.feature_extraction.text import TfidfVectorizer\n",
    "from sklearn.metrics import accuracy_score\n",
    "from sklearn.linear_model import LogisticRegression, PassiveAggressiveClassifier\n",
    "from sklearn.tree import DecisionTreeClassifier"
   ]
  },
  {
   "cell_type": "markdown",
   "id": "ac01c1e0",
   "metadata": {
    "papermill": {
     "duration": 0.025676,
     "end_time": "2022-01-07T17:32:13.189715",
     "exception": false,
     "start_time": "2022-01-07T17:32:13.164039",
     "status": "completed"
    },
    "tags": []
   },
   "source": [
    "# Reading Dataset"
   ]
  },
  {
   "cell_type": "code",
   "execution_count": 2,
   "id": "5bc63824",
   "metadata": {
    "execution": {
     "iopub.execute_input": "2022-01-07T17:32:13.244829Z",
     "iopub.status.busy": "2022-01-07T17:32:13.244315Z",
     "iopub.status.idle": "2022-01-07T17:32:15.762752Z",
     "shell.execute_reply": "2022-01-07T17:32:15.762206Z",
     "shell.execute_reply.started": "2022-01-07T17:13:52.428895Z"
    },
    "papermill": {
     "duration": 2.547761,
     "end_time": "2022-01-07T17:32:15.762899",
     "exception": false,
     "start_time": "2022-01-07T17:32:13.215138",
     "status": "completed"
    },
    "tags": []
   },
   "outputs": [],
   "source": [
    "fake_df = pd.read_csv(\"../input/fake-and-true-news-dataset/Fake-211023-185413.csv\")\n",
    "true_df = pd.read_csv(\"../input/fake-and-true-news-dataset/True-211023-185340.csv\")"
   ]
  },
  {
   "cell_type": "code",
   "execution_count": 3,
   "id": "d158ed0e",
   "metadata": {
    "execution": {
     "iopub.execute_input": "2022-01-07T17:32:15.822659Z",
     "iopub.status.busy": "2022-01-07T17:32:15.822105Z",
     "iopub.status.idle": "2022-01-07T17:32:15.836603Z",
     "shell.execute_reply": "2022-01-07T17:32:15.837042Z",
     "shell.execute_reply.started": "2022-01-07T17:13:54.900047Z"
    },
    "papermill": {
     "duration": 0.047841,
     "end_time": "2022-01-07T17:32:15.837178",
     "exception": false,
     "start_time": "2022-01-07T17:32:15.789337",
     "status": "completed"
    },
    "tags": []
   },
   "outputs": [
    {
     "data": {
      "text/html": [
       "<div>\n",
       "<style scoped>\n",
       "    .dataframe tbody tr th:only-of-type {\n",
       "        vertical-align: middle;\n",
       "    }\n",
       "\n",
       "    .dataframe tbody tr th {\n",
       "        vertical-align: top;\n",
       "    }\n",
       "\n",
       "    .dataframe thead th {\n",
       "        text-align: right;\n",
       "    }\n",
       "</style>\n",
       "<table border=\"1\" class=\"dataframe\">\n",
       "  <thead>\n",
       "    <tr style=\"text-align: right;\">\n",
       "      <th></th>\n",
       "      <th>title</th>\n",
       "      <th>text</th>\n",
       "      <th>subject</th>\n",
       "      <th>date</th>\n",
       "    </tr>\n",
       "  </thead>\n",
       "  <tbody>\n",
       "    <tr>\n",
       "      <th>0</th>\n",
       "      <td>Donald Trump Sends Out Embarrassing New Year’...</td>\n",
       "      <td>Donald Trump just couldn t wish all Americans ...</td>\n",
       "      <td>News</td>\n",
       "      <td>December 31, 2017</td>\n",
       "    </tr>\n",
       "    <tr>\n",
       "      <th>1</th>\n",
       "      <td>Drunk Bragging Trump Staffer Started Russian ...</td>\n",
       "      <td>House Intelligence Committee Chairman Devin Nu...</td>\n",
       "      <td>News</td>\n",
       "      <td>December 31, 2017</td>\n",
       "    </tr>\n",
       "    <tr>\n",
       "      <th>2</th>\n",
       "      <td>Sheriff David Clarke Becomes An Internet Joke...</td>\n",
       "      <td>On Friday, it was revealed that former Milwauk...</td>\n",
       "      <td>News</td>\n",
       "      <td>December 30, 2017</td>\n",
       "    </tr>\n",
       "    <tr>\n",
       "      <th>3</th>\n",
       "      <td>Trump Is So Obsessed He Even Has Obama’s Name...</td>\n",
       "      <td>On Christmas day, Donald Trump announced that ...</td>\n",
       "      <td>News</td>\n",
       "      <td>December 29, 2017</td>\n",
       "    </tr>\n",
       "    <tr>\n",
       "      <th>4</th>\n",
       "      <td>Pope Francis Just Called Out Donald Trump Dur...</td>\n",
       "      <td>Pope Francis used his annual Christmas Day mes...</td>\n",
       "      <td>News</td>\n",
       "      <td>December 25, 2017</td>\n",
       "    </tr>\n",
       "  </tbody>\n",
       "</table>\n",
       "</div>"
      ],
      "text/plain": [
       "                                               title  \\\n",
       "0   Donald Trump Sends Out Embarrassing New Year’...   \n",
       "1   Drunk Bragging Trump Staffer Started Russian ...   \n",
       "2   Sheriff David Clarke Becomes An Internet Joke...   \n",
       "3   Trump Is So Obsessed He Even Has Obama’s Name...   \n",
       "4   Pope Francis Just Called Out Donald Trump Dur...   \n",
       "\n",
       "                                                text subject  \\\n",
       "0  Donald Trump just couldn t wish all Americans ...    News   \n",
       "1  House Intelligence Committee Chairman Devin Nu...    News   \n",
       "2  On Friday, it was revealed that former Milwauk...    News   \n",
       "3  On Christmas day, Donald Trump announced that ...    News   \n",
       "4  Pope Francis used his annual Christmas Day mes...    News   \n",
       "\n",
       "                date  \n",
       "0  December 31, 2017  \n",
       "1  December 31, 2017  \n",
       "2  December 30, 2017  \n",
       "3  December 29, 2017  \n",
       "4  December 25, 2017  "
      ]
     },
     "execution_count": 3,
     "metadata": {},
     "output_type": "execute_result"
    }
   ],
   "source": [
    "fake_df.head()"
   ]
  },
  {
   "cell_type": "code",
   "execution_count": 4,
   "id": "d07dc968",
   "metadata": {
    "execution": {
     "iopub.execute_input": "2022-01-07T17:32:15.899012Z",
     "iopub.status.busy": "2022-01-07T17:32:15.898356Z",
     "iopub.status.idle": "2022-01-07T17:32:15.901465Z",
     "shell.execute_reply": "2022-01-07T17:32:15.901889Z",
     "shell.execute_reply.started": "2022-01-07T17:13:54.920936Z"
    },
    "papermill": {
     "duration": 0.038198,
     "end_time": "2022-01-07T17:32:15.902012",
     "exception": false,
     "start_time": "2022-01-07T17:32:15.863814",
     "status": "completed"
    },
    "tags": []
   },
   "outputs": [
    {
     "data": {
      "text/html": [
       "<div>\n",
       "<style scoped>\n",
       "    .dataframe tbody tr th:only-of-type {\n",
       "        vertical-align: middle;\n",
       "    }\n",
       "\n",
       "    .dataframe tbody tr th {\n",
       "        vertical-align: top;\n",
       "    }\n",
       "\n",
       "    .dataframe thead th {\n",
       "        text-align: right;\n",
       "    }\n",
       "</style>\n",
       "<table border=\"1\" class=\"dataframe\">\n",
       "  <thead>\n",
       "    <tr style=\"text-align: right;\">\n",
       "      <th></th>\n",
       "      <th>title</th>\n",
       "      <th>text</th>\n",
       "      <th>subject</th>\n",
       "      <th>date</th>\n",
       "    </tr>\n",
       "  </thead>\n",
       "  <tbody>\n",
       "    <tr>\n",
       "      <th>0</th>\n",
       "      <td>As U.S. budget fight looms, Republicans flip t...</td>\n",
       "      <td>WASHINGTON (Reuters) - The head of a conservat...</td>\n",
       "      <td>politicsNews</td>\n",
       "      <td>December 31, 2017</td>\n",
       "    </tr>\n",
       "    <tr>\n",
       "      <th>1</th>\n",
       "      <td>U.S. military to accept transgender recruits o...</td>\n",
       "      <td>WASHINGTON (Reuters) - Transgender people will...</td>\n",
       "      <td>politicsNews</td>\n",
       "      <td>December 29, 2017</td>\n",
       "    </tr>\n",
       "    <tr>\n",
       "      <th>2</th>\n",
       "      <td>Senior U.S. Republican senator: 'Let Mr. Muell...</td>\n",
       "      <td>WASHINGTON (Reuters) - The special counsel inv...</td>\n",
       "      <td>politicsNews</td>\n",
       "      <td>December 31, 2017</td>\n",
       "    </tr>\n",
       "    <tr>\n",
       "      <th>3</th>\n",
       "      <td>FBI Russia probe helped by Australian diplomat...</td>\n",
       "      <td>WASHINGTON (Reuters) - Trump campaign adviser ...</td>\n",
       "      <td>politicsNews</td>\n",
       "      <td>December 30, 2017</td>\n",
       "    </tr>\n",
       "    <tr>\n",
       "      <th>4</th>\n",
       "      <td>Trump wants Postal Service to charge 'much mor...</td>\n",
       "      <td>SEATTLE/WASHINGTON (Reuters) - President Donal...</td>\n",
       "      <td>politicsNews</td>\n",
       "      <td>December 29, 2017</td>\n",
       "    </tr>\n",
       "  </tbody>\n",
       "</table>\n",
       "</div>"
      ],
      "text/plain": [
       "                                               title  \\\n",
       "0  As U.S. budget fight looms, Republicans flip t...   \n",
       "1  U.S. military to accept transgender recruits o...   \n",
       "2  Senior U.S. Republican senator: 'Let Mr. Muell...   \n",
       "3  FBI Russia probe helped by Australian diplomat...   \n",
       "4  Trump wants Postal Service to charge 'much mor...   \n",
       "\n",
       "                                                text       subject  \\\n",
       "0  WASHINGTON (Reuters) - The head of a conservat...  politicsNews   \n",
       "1  WASHINGTON (Reuters) - Transgender people will...  politicsNews   \n",
       "2  WASHINGTON (Reuters) - The special counsel inv...  politicsNews   \n",
       "3  WASHINGTON (Reuters) - Trump campaign adviser ...  politicsNews   \n",
       "4  SEATTLE/WASHINGTON (Reuters) - President Donal...  politicsNews   \n",
       "\n",
       "                 date  \n",
       "0  December 31, 2017   \n",
       "1  December 29, 2017   \n",
       "2  December 31, 2017   \n",
       "3  December 30, 2017   \n",
       "4  December 29, 2017   "
      ]
     },
     "execution_count": 4,
     "metadata": {},
     "output_type": "execute_result"
    }
   ],
   "source": [
    "true_df.head()"
   ]
  },
  {
   "cell_type": "code",
   "execution_count": 5,
   "id": "1a87ff3d",
   "metadata": {
    "execution": {
     "iopub.execute_input": "2022-01-07T17:32:15.968798Z",
     "iopub.status.busy": "2022-01-07T17:32:15.968270Z",
     "iopub.status.idle": "2022-01-07T17:32:15.973407Z",
     "shell.execute_reply": "2022-01-07T17:32:15.972931Z",
     "shell.execute_reply.started": "2022-01-07T17:13:54.933807Z"
    },
    "papermill": {
     "duration": 0.043907,
     "end_time": "2022-01-07T17:32:15.973520",
     "exception": false,
     "start_time": "2022-01-07T17:32:15.929613",
     "status": "completed"
    },
    "tags": []
   },
   "outputs": [
    {
     "data": {
      "text/plain": [
       "News               9050\n",
       "politics           6841\n",
       "left-news          4459\n",
       "Government News    1570\n",
       "US_News             783\n",
       "Middle-east         778\n",
       "Name: subject, dtype: int64"
      ]
     },
     "execution_count": 5,
     "metadata": {},
     "output_type": "execute_result"
    }
   ],
   "source": [
    "fake_df.subject.value_counts()"
   ]
  },
  {
   "cell_type": "code",
   "execution_count": 6,
   "id": "fa9a4d3d",
   "metadata": {
    "execution": {
     "iopub.execute_input": "2022-01-07T17:32:16.034950Z",
     "iopub.status.busy": "2022-01-07T17:32:16.032328Z",
     "iopub.status.idle": "2022-01-07T17:32:16.037915Z",
     "shell.execute_reply": "2022-01-07T17:32:16.037489Z",
     "shell.execute_reply.started": "2022-01-07T17:13:54.950693Z"
    },
    "papermill": {
     "duration": 0.038,
     "end_time": "2022-01-07T17:32:16.038024",
     "exception": false,
     "start_time": "2022-01-07T17:32:16.000024",
     "status": "completed"
    },
    "tags": []
   },
   "outputs": [
    {
     "data": {
      "text/plain": [
       "politicsNews    11272\n",
       "worldnews       10145\n",
       "Name: subject, dtype: int64"
      ]
     },
     "execution_count": 6,
     "metadata": {},
     "output_type": "execute_result"
    }
   ],
   "source": [
    "true_df.subject.value_counts()"
   ]
  },
  {
   "cell_type": "code",
   "execution_count": 7,
   "id": "5773c8dc",
   "metadata": {
    "execution": {
     "iopub.execute_input": "2022-01-07T17:32:16.097523Z",
     "iopub.status.busy": "2022-01-07T17:32:16.097025Z",
     "iopub.status.idle": "2022-01-07T17:32:16.101795Z",
     "shell.execute_reply": "2022-01-07T17:32:16.101158Z",
     "shell.execute_reply.started": "2022-01-07T17:13:54.963656Z"
    },
    "papermill": {
     "duration": 0.036039,
     "end_time": "2022-01-07T17:32:16.101938",
     "exception": false,
     "start_time": "2022-01-07T17:32:16.065899",
     "status": "completed"
    },
    "tags": []
   },
   "outputs": [
    {
     "data": {
      "text/plain": [
       "(23481, 4)"
      ]
     },
     "execution_count": 7,
     "metadata": {},
     "output_type": "execute_result"
    }
   ],
   "source": [
    "fake_df.shape"
   ]
  },
  {
   "cell_type": "code",
   "execution_count": 8,
   "id": "835ed458",
   "metadata": {
    "execution": {
     "iopub.execute_input": "2022-01-07T17:32:16.161796Z",
     "iopub.status.busy": "2022-01-07T17:32:16.161125Z",
     "iopub.status.idle": "2022-01-07T17:32:16.164192Z",
     "shell.execute_reply": "2022-01-07T17:32:16.164586Z",
     "shell.execute_reply.started": "2022-01-07T17:13:54.971882Z"
    },
    "papermill": {
     "duration": 0.034973,
     "end_time": "2022-01-07T17:32:16.164717",
     "exception": false,
     "start_time": "2022-01-07T17:32:16.129744",
     "status": "completed"
    },
    "tags": []
   },
   "outputs": [
    {
     "data": {
      "text/plain": [
       "(21417, 4)"
      ]
     },
     "execution_count": 8,
     "metadata": {},
     "output_type": "execute_result"
    }
   ],
   "source": [
    "true_df.shape"
   ]
  },
  {
   "cell_type": "code",
   "execution_count": 9,
   "id": "e72e17cd",
   "metadata": {
    "execution": {
     "iopub.execute_input": "2022-01-07T17:32:16.225435Z",
     "iopub.status.busy": "2022-01-07T17:32:16.223948Z",
     "iopub.status.idle": "2022-01-07T17:32:16.226047Z",
     "shell.execute_reply": "2022-01-07T17:32:16.226434Z",
     "shell.execute_reply.started": "2022-01-07T17:13:54.982422Z"
    },
    "papermill": {
     "duration": 0.034552,
     "end_time": "2022-01-07T17:32:16.226553",
     "exception": false,
     "start_time": "2022-01-07T17:32:16.192001",
     "status": "completed"
    },
    "tags": []
   },
   "outputs": [],
   "source": [
    "fake_df['Target'] = 0\n",
    "true_df['Target'] = 1"
   ]
  },
  {
   "cell_type": "code",
   "execution_count": 10,
   "id": "a0fd1008",
   "metadata": {
    "execution": {
     "iopub.execute_input": "2022-01-07T17:32:16.289773Z",
     "iopub.status.busy": "2022-01-07T17:32:16.289258Z",
     "iopub.status.idle": "2022-01-07T17:32:16.293795Z",
     "shell.execute_reply": "2022-01-07T17:32:16.293318Z",
     "shell.execute_reply.started": "2022-01-07T17:13:54.989684Z"
    },
    "papermill": {
     "duration": 0.040066,
     "end_time": "2022-01-07T17:32:16.293900",
     "exception": false,
     "start_time": "2022-01-07T17:32:16.253834",
     "status": "completed"
    },
    "tags": []
   },
   "outputs": [
    {
     "data": {
      "text/html": [
       "<div>\n",
       "<style scoped>\n",
       "    .dataframe tbody tr th:only-of-type {\n",
       "        vertical-align: middle;\n",
       "    }\n",
       "\n",
       "    .dataframe tbody tr th {\n",
       "        vertical-align: top;\n",
       "    }\n",
       "\n",
       "    .dataframe thead th {\n",
       "        text-align: right;\n",
       "    }\n",
       "</style>\n",
       "<table border=\"1\" class=\"dataframe\">\n",
       "  <thead>\n",
       "    <tr style=\"text-align: right;\">\n",
       "      <th></th>\n",
       "      <th>title</th>\n",
       "      <th>text</th>\n",
       "      <th>subject</th>\n",
       "      <th>date</th>\n",
       "      <th>Target</th>\n",
       "    </tr>\n",
       "  </thead>\n",
       "  <tbody>\n",
       "    <tr>\n",
       "      <th>0</th>\n",
       "      <td>Donald Trump Sends Out Embarrassing New Year’...</td>\n",
       "      <td>Donald Trump just couldn t wish all Americans ...</td>\n",
       "      <td>News</td>\n",
       "      <td>December 31, 2017</td>\n",
       "      <td>0</td>\n",
       "    </tr>\n",
       "    <tr>\n",
       "      <th>1</th>\n",
       "      <td>Drunk Bragging Trump Staffer Started Russian ...</td>\n",
       "      <td>House Intelligence Committee Chairman Devin Nu...</td>\n",
       "      <td>News</td>\n",
       "      <td>December 31, 2017</td>\n",
       "      <td>0</td>\n",
       "    </tr>\n",
       "    <tr>\n",
       "      <th>2</th>\n",
       "      <td>Sheriff David Clarke Becomes An Internet Joke...</td>\n",
       "      <td>On Friday, it was revealed that former Milwauk...</td>\n",
       "      <td>News</td>\n",
       "      <td>December 30, 2017</td>\n",
       "      <td>0</td>\n",
       "    </tr>\n",
       "    <tr>\n",
       "      <th>3</th>\n",
       "      <td>Trump Is So Obsessed He Even Has Obama’s Name...</td>\n",
       "      <td>On Christmas day, Donald Trump announced that ...</td>\n",
       "      <td>News</td>\n",
       "      <td>December 29, 2017</td>\n",
       "      <td>0</td>\n",
       "    </tr>\n",
       "    <tr>\n",
       "      <th>4</th>\n",
       "      <td>Pope Francis Just Called Out Donald Trump Dur...</td>\n",
       "      <td>Pope Francis used his annual Christmas Day mes...</td>\n",
       "      <td>News</td>\n",
       "      <td>December 25, 2017</td>\n",
       "      <td>0</td>\n",
       "    </tr>\n",
       "  </tbody>\n",
       "</table>\n",
       "</div>"
      ],
      "text/plain": [
       "                                               title  \\\n",
       "0   Donald Trump Sends Out Embarrassing New Year’...   \n",
       "1   Drunk Bragging Trump Staffer Started Russian ...   \n",
       "2   Sheriff David Clarke Becomes An Internet Joke...   \n",
       "3   Trump Is So Obsessed He Even Has Obama’s Name...   \n",
       "4   Pope Francis Just Called Out Donald Trump Dur...   \n",
       "\n",
       "                                                text subject  \\\n",
       "0  Donald Trump just couldn t wish all Americans ...    News   \n",
       "1  House Intelligence Committee Chairman Devin Nu...    News   \n",
       "2  On Friday, it was revealed that former Milwauk...    News   \n",
       "3  On Christmas day, Donald Trump announced that ...    News   \n",
       "4  Pope Francis used his annual Christmas Day mes...    News   \n",
       "\n",
       "                date  Target  \n",
       "0  December 31, 2017       0  \n",
       "1  December 31, 2017       0  \n",
       "2  December 30, 2017       0  \n",
       "3  December 29, 2017       0  \n",
       "4  December 25, 2017       0  "
      ]
     },
     "execution_count": 10,
     "metadata": {},
     "output_type": "execute_result"
    }
   ],
   "source": [
    "fake_df.head()"
   ]
  },
  {
   "cell_type": "code",
   "execution_count": 11,
   "id": "4e0975a3",
   "metadata": {
    "execution": {
     "iopub.execute_input": "2022-01-07T17:32:16.359103Z",
     "iopub.status.busy": "2022-01-07T17:32:16.358478Z",
     "iopub.status.idle": "2022-01-07T17:32:16.361089Z",
     "shell.execute_reply": "2022-01-07T17:32:16.361477Z",
     "shell.execute_reply.started": "2022-01-07T17:13:55.003905Z"
    },
    "papermill": {
     "duration": 0.039662,
     "end_time": "2022-01-07T17:32:16.361588",
     "exception": false,
     "start_time": "2022-01-07T17:32:16.321926",
     "status": "completed"
    },
    "tags": []
   },
   "outputs": [
    {
     "data": {
      "text/html": [
       "<div>\n",
       "<style scoped>\n",
       "    .dataframe tbody tr th:only-of-type {\n",
       "        vertical-align: middle;\n",
       "    }\n",
       "\n",
       "    .dataframe tbody tr th {\n",
       "        vertical-align: top;\n",
       "    }\n",
       "\n",
       "    .dataframe thead th {\n",
       "        text-align: right;\n",
       "    }\n",
       "</style>\n",
       "<table border=\"1\" class=\"dataframe\">\n",
       "  <thead>\n",
       "    <tr style=\"text-align: right;\">\n",
       "      <th></th>\n",
       "      <th>title</th>\n",
       "      <th>text</th>\n",
       "      <th>subject</th>\n",
       "      <th>date</th>\n",
       "      <th>Target</th>\n",
       "    </tr>\n",
       "  </thead>\n",
       "  <tbody>\n",
       "    <tr>\n",
       "      <th>0</th>\n",
       "      <td>As U.S. budget fight looms, Republicans flip t...</td>\n",
       "      <td>WASHINGTON (Reuters) - The head of a conservat...</td>\n",
       "      <td>politicsNews</td>\n",
       "      <td>December 31, 2017</td>\n",
       "      <td>1</td>\n",
       "    </tr>\n",
       "    <tr>\n",
       "      <th>1</th>\n",
       "      <td>U.S. military to accept transgender recruits o...</td>\n",
       "      <td>WASHINGTON (Reuters) - Transgender people will...</td>\n",
       "      <td>politicsNews</td>\n",
       "      <td>December 29, 2017</td>\n",
       "      <td>1</td>\n",
       "    </tr>\n",
       "    <tr>\n",
       "      <th>2</th>\n",
       "      <td>Senior U.S. Republican senator: 'Let Mr. Muell...</td>\n",
       "      <td>WASHINGTON (Reuters) - The special counsel inv...</td>\n",
       "      <td>politicsNews</td>\n",
       "      <td>December 31, 2017</td>\n",
       "      <td>1</td>\n",
       "    </tr>\n",
       "    <tr>\n",
       "      <th>3</th>\n",
       "      <td>FBI Russia probe helped by Australian diplomat...</td>\n",
       "      <td>WASHINGTON (Reuters) - Trump campaign adviser ...</td>\n",
       "      <td>politicsNews</td>\n",
       "      <td>December 30, 2017</td>\n",
       "      <td>1</td>\n",
       "    </tr>\n",
       "    <tr>\n",
       "      <th>4</th>\n",
       "      <td>Trump wants Postal Service to charge 'much mor...</td>\n",
       "      <td>SEATTLE/WASHINGTON (Reuters) - President Donal...</td>\n",
       "      <td>politicsNews</td>\n",
       "      <td>December 29, 2017</td>\n",
       "      <td>1</td>\n",
       "    </tr>\n",
       "  </tbody>\n",
       "</table>\n",
       "</div>"
      ],
      "text/plain": [
       "                                               title  \\\n",
       "0  As U.S. budget fight looms, Republicans flip t...   \n",
       "1  U.S. military to accept transgender recruits o...   \n",
       "2  Senior U.S. Republican senator: 'Let Mr. Muell...   \n",
       "3  FBI Russia probe helped by Australian diplomat...   \n",
       "4  Trump wants Postal Service to charge 'much mor...   \n",
       "\n",
       "                                                text       subject  \\\n",
       "0  WASHINGTON (Reuters) - The head of a conservat...  politicsNews   \n",
       "1  WASHINGTON (Reuters) - Transgender people will...  politicsNews   \n",
       "2  WASHINGTON (Reuters) - The special counsel inv...  politicsNews   \n",
       "3  WASHINGTON (Reuters) - Trump campaign adviser ...  politicsNews   \n",
       "4  SEATTLE/WASHINGTON (Reuters) - President Donal...  politicsNews   \n",
       "\n",
       "                 date  Target  \n",
       "0  December 31, 2017        1  \n",
       "1  December 29, 2017        1  \n",
       "2  December 31, 2017        1  \n",
       "3  December 30, 2017        1  \n",
       "4  December 29, 2017        1  "
      ]
     },
     "execution_count": 11,
     "metadata": {},
     "output_type": "execute_result"
    }
   ],
   "source": [
    "true_df.head()"
   ]
  },
  {
   "cell_type": "code",
   "execution_count": 12,
   "id": "f33b5740",
   "metadata": {
    "execution": {
     "iopub.execute_input": "2022-01-07T17:32:16.423729Z",
     "iopub.status.busy": "2022-01-07T17:32:16.422973Z",
     "iopub.status.idle": "2022-01-07T17:32:16.446661Z",
     "shell.execute_reply": "2022-01-07T17:32:16.446243Z",
     "shell.execute_reply.started": "2022-01-07T17:13:55.015450Z"
    },
    "papermill": {
     "duration": 0.056937,
     "end_time": "2022-01-07T17:32:16.446792",
     "exception": false,
     "start_time": "2022-01-07T17:32:16.389855",
     "status": "completed"
    },
    "tags": []
   },
   "outputs": [
    {
     "name": "stdout",
     "output_type": "stream",
     "text": [
      "Index(['text', 'Target'], dtype='object')\n"
     ]
    }
   ],
   "source": [
    "df = pd.concat([fake_df, true_df], axis = 0)\n",
    "df = df.sample(frac = 1)\n",
    "df = df.reset_index(drop = True)\n",
    "df = df.drop(['subject', 'date', 'title'], axis = 1)\n",
    "print(df.columns)"
   ]
  },
  {
   "cell_type": "code",
   "execution_count": 13,
   "id": "78dc82d5",
   "metadata": {
    "execution": {
     "iopub.execute_input": "2022-01-07T17:32:16.513100Z",
     "iopub.status.busy": "2022-01-07T17:32:16.512271Z",
     "iopub.status.idle": "2022-01-07T17:32:16.517838Z",
     "shell.execute_reply": "2022-01-07T17:32:16.518220Z",
     "shell.execute_reply.started": "2022-01-07T17:13:55.046868Z"
    },
    "papermill": {
     "duration": 0.042949,
     "end_time": "2022-01-07T17:32:16.518343",
     "exception": false,
     "start_time": "2022-01-07T17:32:16.475394",
     "status": "completed"
    },
    "tags": []
   },
   "outputs": [
    {
     "data": {
      "text/plain": [
       "text      0\n",
       "Target    0\n",
       "dtype: int64"
      ]
     },
     "execution_count": 13,
     "metadata": {},
     "output_type": "execute_result"
    }
   ],
   "source": [
    "df.isnull().sum()"
   ]
  },
  {
   "cell_type": "code",
   "execution_count": 14,
   "id": "bab71eca",
   "metadata": {
    "execution": {
     "iopub.execute_input": "2022-01-07T17:32:16.581215Z",
     "iopub.status.busy": "2022-01-07T17:32:16.580432Z",
     "iopub.status.idle": "2022-01-07T17:32:16.588920Z",
     "shell.execute_reply": "2022-01-07T17:32:16.588464Z",
     "shell.execute_reply.started": "2022-01-07T17:13:55.067523Z"
    },
    "papermill": {
     "duration": 0.041911,
     "end_time": "2022-01-07T17:32:16.589037",
     "exception": false,
     "start_time": "2022-01-07T17:32:16.547126",
     "status": "completed"
    },
    "tags": []
   },
   "outputs": [
    {
     "data": {
      "text/html": [
       "<div>\n",
       "<style scoped>\n",
       "    .dataframe tbody tr th:only-of-type {\n",
       "        vertical-align: middle;\n",
       "    }\n",
       "\n",
       "    .dataframe tbody tr th {\n",
       "        vertical-align: top;\n",
       "    }\n",
       "\n",
       "    .dataframe thead th {\n",
       "        text-align: right;\n",
       "    }\n",
       "</style>\n",
       "<table border=\"1\" class=\"dataframe\">\n",
       "  <thead>\n",
       "    <tr style=\"text-align: right;\">\n",
       "      <th></th>\n",
       "      <th>text</th>\n",
       "      <th>Target</th>\n",
       "    </tr>\n",
       "  </thead>\n",
       "  <tbody>\n",
       "    <tr>\n",
       "      <th>0</th>\n",
       "      <td>BARCELONA (Reuters) - Protesters clashed with ...</td>\n",
       "      <td>1</td>\n",
       "    </tr>\n",
       "    <tr>\n",
       "      <th>1</th>\n",
       "      <td>NEW YORK (Reuters) - Front-runner Donald Trump...</td>\n",
       "      <td>1</td>\n",
       "    </tr>\n",
       "    <tr>\n",
       "      <th>2</th>\n",
       "      <td>Career criminals professional grifters the ult...</td>\n",
       "      <td>0</td>\n",
       "    </tr>\n",
       "    <tr>\n",
       "      <th>3</th>\n",
       "      <td>After it was revealed in the leaked Access Hol...</td>\n",
       "      <td>0</td>\n",
       "    </tr>\n",
       "    <tr>\n",
       "      <th>4</th>\n",
       "      <td>After Friday s right-wing terror attack in Por...</td>\n",
       "      <td>0</td>\n",
       "    </tr>\n",
       "    <tr>\n",
       "      <th>...</th>\n",
       "      <td>...</td>\n",
       "      <td>...</td>\n",
       "    </tr>\n",
       "    <tr>\n",
       "      <th>44893</th>\n",
       "      <td>MEXICO CITY (Reuters) - Honduran opposition ca...</td>\n",
       "      <td>1</td>\n",
       "    </tr>\n",
       "    <tr>\n",
       "      <th>44894</th>\n",
       "      <td>There have recently been allegations claiming ...</td>\n",
       "      <td>0</td>\n",
       "    </tr>\n",
       "    <tr>\n",
       "      <th>44895</th>\n",
       "      <td>NEW YORK (Reuters) - The email Donald Trump’s ...</td>\n",
       "      <td>1</td>\n",
       "    </tr>\n",
       "    <tr>\n",
       "      <th>44896</th>\n",
       "      <td>The Army can t be bothered with defending or p...</td>\n",
       "      <td>0</td>\n",
       "    </tr>\n",
       "    <tr>\n",
       "      <th>44897</th>\n",
       "      <td>WASHINGTON (Reuters) - The top Democrat on the...</td>\n",
       "      <td>1</td>\n",
       "    </tr>\n",
       "  </tbody>\n",
       "</table>\n",
       "<p>44898 rows × 2 columns</p>\n",
       "</div>"
      ],
      "text/plain": [
       "                                                    text  Target\n",
       "0      BARCELONA (Reuters) - Protesters clashed with ...       1\n",
       "1      NEW YORK (Reuters) - Front-runner Donald Trump...       1\n",
       "2      Career criminals professional grifters the ult...       0\n",
       "3      After it was revealed in the leaked Access Hol...       0\n",
       "4      After Friday s right-wing terror attack in Por...       0\n",
       "...                                                  ...     ...\n",
       "44893  MEXICO CITY (Reuters) - Honduran opposition ca...       1\n",
       "44894  There have recently been allegations claiming ...       0\n",
       "44895  NEW YORK (Reuters) - The email Donald Trump’s ...       1\n",
       "44896  The Army can t be bothered with defending or p...       0\n",
       "44897  WASHINGTON (Reuters) - The top Democrat on the...       1\n",
       "\n",
       "[44898 rows x 2 columns]"
      ]
     },
     "execution_count": 14,
     "metadata": {},
     "output_type": "execute_result"
    }
   ],
   "source": [
    "df"
   ]
  },
  {
   "cell_type": "markdown",
   "id": "222432bb",
   "metadata": {
    "papermill": {
     "duration": 0.028995,
     "end_time": "2022-01-07T17:32:16.647168",
     "exception": false,
     "start_time": "2022-01-07T17:32:16.618173",
     "status": "completed"
    },
    "tags": []
   },
   "source": [
    "# Tokenization"
   ]
  },
  {
   "cell_type": "code",
   "execution_count": 15,
   "id": "a394bdb8",
   "metadata": {
    "execution": {
     "iopub.execute_input": "2022-01-07T17:32:16.721208Z",
     "iopub.status.busy": "2022-01-07T17:32:16.720490Z",
     "iopub.status.idle": "2022-01-07T17:35:46.344769Z",
     "shell.execute_reply": "2022-01-07T17:35:46.344241Z",
     "shell.execute_reply.started": "2022-01-07T17:13:55.081014Z"
    },
    "papermill": {
     "duration": 209.664443,
     "end_time": "2022-01-07T17:35:46.344927",
     "exception": false,
     "start_time": "2022-01-07T17:32:16.680484",
     "status": "completed"
    },
    "tags": []
   },
   "outputs": [],
   "source": [
    "df['text'] = df['text'].apply(word_tokenize)"
   ]
  },
  {
   "cell_type": "code",
   "execution_count": 16,
   "id": "949a35a0",
   "metadata": {
    "execution": {
     "iopub.execute_input": "2022-01-07T17:35:46.419362Z",
     "iopub.status.busy": "2022-01-07T17:35:46.418754Z",
     "iopub.status.idle": "2022-01-07T17:35:46.421392Z",
     "shell.execute_reply": "2022-01-07T17:35:46.421812Z",
     "shell.execute_reply.started": "2022-01-07T17:17:21.216213Z"
    },
    "papermill": {
     "duration": 0.045967,
     "end_time": "2022-01-07T17:35:46.421940",
     "exception": false,
     "start_time": "2022-01-07T17:35:46.375973",
     "status": "completed"
    },
    "tags": []
   },
   "outputs": [
    {
     "data": {
      "text/html": [
       "<div>\n",
       "<style scoped>\n",
       "    .dataframe tbody tr th:only-of-type {\n",
       "        vertical-align: middle;\n",
       "    }\n",
       "\n",
       "    .dataframe tbody tr th {\n",
       "        vertical-align: top;\n",
       "    }\n",
       "\n",
       "    .dataframe thead th {\n",
       "        text-align: right;\n",
       "    }\n",
       "</style>\n",
       "<table border=\"1\" class=\"dataframe\">\n",
       "  <thead>\n",
       "    <tr style=\"text-align: right;\">\n",
       "      <th></th>\n",
       "      <th>text</th>\n",
       "      <th>Target</th>\n",
       "    </tr>\n",
       "  </thead>\n",
       "  <tbody>\n",
       "    <tr>\n",
       "      <th>0</th>\n",
       "      <td>[BARCELONA, (, Reuters, ), -, Protesters, clas...</td>\n",
       "      <td>1</td>\n",
       "    </tr>\n",
       "    <tr>\n",
       "      <th>1</th>\n",
       "      <td>[NEW, YORK, (, Reuters, ), -, Front-runner, Do...</td>\n",
       "      <td>1</td>\n",
       "    </tr>\n",
       "    <tr>\n",
       "      <th>2</th>\n",
       "      <td>[Career, criminals, professional, grifters, th...</td>\n",
       "      <td>0</td>\n",
       "    </tr>\n",
       "    <tr>\n",
       "      <th>3</th>\n",
       "      <td>[After, it, was, revealed, in, the, leaked, Ac...</td>\n",
       "      <td>0</td>\n",
       "    </tr>\n",
       "    <tr>\n",
       "      <th>4</th>\n",
       "      <td>[After, Friday, s, right-wing, terror, attack,...</td>\n",
       "      <td>0</td>\n",
       "    </tr>\n",
       "  </tbody>\n",
       "</table>\n",
       "</div>"
      ],
      "text/plain": [
       "                                                text  Target\n",
       "0  [BARCELONA, (, Reuters, ), -, Protesters, clas...       1\n",
       "1  [NEW, YORK, (, Reuters, ), -, Front-runner, Do...       1\n",
       "2  [Career, criminals, professional, grifters, th...       0\n",
       "3  [After, it, was, revealed, in, the, leaked, Ac...       0\n",
       "4  [After, Friday, s, right-wing, terror, attack,...       0"
      ]
     },
     "execution_count": 16,
     "metadata": {},
     "output_type": "execute_result"
    }
   ],
   "source": [
    "df.head()"
   ]
  },
  {
   "cell_type": "markdown",
   "id": "f333416f",
   "metadata": {
    "papermill": {
     "duration": 0.029944,
     "end_time": "2022-01-07T17:35:46.481588",
     "exception": false,
     "start_time": "2022-01-07T17:35:46.451644",
     "status": "completed"
    },
    "tags": []
   },
   "source": [
    "# Stemming"
   ]
  },
  {
   "cell_type": "code",
   "execution_count": 17,
   "id": "5e448dce",
   "metadata": {
    "execution": {
     "iopub.execute_input": "2022-01-07T17:35:46.544965Z",
     "iopub.status.busy": "2022-01-07T17:35:46.544208Z",
     "iopub.status.idle": "2022-01-07T17:35:46.546162Z",
     "shell.execute_reply": "2022-01-07T17:35:46.546536Z",
     "shell.execute_reply.started": "2022-01-07T17:17:21.237010Z"
    },
    "papermill": {
     "duration": 0.035289,
     "end_time": "2022-01-07T17:35:46.546657",
     "exception": false,
     "start_time": "2022-01-07T17:35:46.511368",
     "status": "completed"
    },
    "tags": []
   },
   "outputs": [],
   "source": [
    "porter = SnowballStemmer(\"english\")"
   ]
  },
  {
   "cell_type": "code",
   "execution_count": 18,
   "id": "bc82d313",
   "metadata": {
    "execution": {
     "iopub.execute_input": "2022-01-07T17:35:46.610422Z",
     "iopub.status.busy": "2022-01-07T17:35:46.609673Z",
     "iopub.status.idle": "2022-01-07T17:35:46.612013Z",
     "shell.execute_reply": "2022-01-07T17:35:46.611581Z",
     "shell.execute_reply.started": "2022-01-07T17:17:21.244845Z"
    },
    "papermill": {
     "duration": 0.035671,
     "end_time": "2022-01-07T17:35:46.612114",
     "exception": false,
     "start_time": "2022-01-07T17:35:46.576443",
     "status": "completed"
    },
    "tags": []
   },
   "outputs": [],
   "source": [
    "def stem_it(text):\n",
    "    return [porter.stem(word) for word in text]"
   ]
  },
  {
   "cell_type": "code",
   "execution_count": 19,
   "id": "77fafdb1",
   "metadata": {
    "execution": {
     "iopub.execute_input": "2022-01-07T17:35:46.675852Z",
     "iopub.status.busy": "2022-01-07T17:35:46.674983Z",
     "iopub.status.idle": "2022-01-07T17:39:39.159629Z",
     "shell.execute_reply": "2022-01-07T17:39:39.159138Z",
     "shell.execute_reply.started": "2022-01-07T17:17:21.253467Z"
    },
    "papermill": {
     "duration": 232.517961,
     "end_time": "2022-01-07T17:39:39.159801",
     "exception": false,
     "start_time": "2022-01-07T17:35:46.641840",
     "status": "completed"
    },
    "tags": []
   },
   "outputs": [],
   "source": [
    "df['text'] = df['text'].apply(stem_it)"
   ]
  },
  {
   "cell_type": "code",
   "execution_count": 20,
   "id": "f0097ea3",
   "metadata": {
    "execution": {
     "iopub.execute_input": "2022-01-07T17:39:39.233930Z",
     "iopub.status.busy": "2022-01-07T17:39:39.233184Z",
     "iopub.status.idle": "2022-01-07T17:39:39.236193Z",
     "shell.execute_reply": "2022-01-07T17:39:39.236656Z",
     "shell.execute_reply.started": "2022-01-07T17:21:14.518359Z"
    },
    "papermill": {
     "duration": 0.045686,
     "end_time": "2022-01-07T17:39:39.236823",
     "exception": false,
     "start_time": "2022-01-07T17:39:39.191137",
     "status": "completed"
    },
    "tags": []
   },
   "outputs": [
    {
     "data": {
      "text/html": [
       "<div>\n",
       "<style scoped>\n",
       "    .dataframe tbody tr th:only-of-type {\n",
       "        vertical-align: middle;\n",
       "    }\n",
       "\n",
       "    .dataframe tbody tr th {\n",
       "        vertical-align: top;\n",
       "    }\n",
       "\n",
       "    .dataframe thead th {\n",
       "        text-align: right;\n",
       "    }\n",
       "</style>\n",
       "<table border=\"1\" class=\"dataframe\">\n",
       "  <thead>\n",
       "    <tr style=\"text-align: right;\">\n",
       "      <th></th>\n",
       "      <th>text</th>\n",
       "      <th>Target</th>\n",
       "    </tr>\n",
       "  </thead>\n",
       "  <tbody>\n",
       "    <tr>\n",
       "      <th>0</th>\n",
       "      <td>[barcelona, (, reuter, ), -, protest, clash, w...</td>\n",
       "      <td>1</td>\n",
       "    </tr>\n",
       "    <tr>\n",
       "      <th>1</th>\n",
       "      <td>[new, york, (, reuter, ), -, front-runn, donal...</td>\n",
       "      <td>1</td>\n",
       "    </tr>\n",
       "    <tr>\n",
       "      <th>2</th>\n",
       "      <td>[career, crimin, profession, grifter, the, ult...</td>\n",
       "      <td>0</td>\n",
       "    </tr>\n",
       "    <tr>\n",
       "      <th>3</th>\n",
       "      <td>[after, it, was, reveal, in, the, leak, access...</td>\n",
       "      <td>0</td>\n",
       "    </tr>\n",
       "    <tr>\n",
       "      <th>4</th>\n",
       "      <td>[after, friday, s, right-w, terror, attack, in...</td>\n",
       "      <td>0</td>\n",
       "    </tr>\n",
       "  </tbody>\n",
       "</table>\n",
       "</div>"
      ],
      "text/plain": [
       "                                                text  Target\n",
       "0  [barcelona, (, reuter, ), -, protest, clash, w...       1\n",
       "1  [new, york, (, reuter, ), -, front-runn, donal...       1\n",
       "2  [career, crimin, profession, grifter, the, ult...       0\n",
       "3  [after, it, was, reveal, in, the, leak, access...       0\n",
       "4  [after, friday, s, right-w, terror, attack, in...       0"
      ]
     },
     "execution_count": 20,
     "metadata": {},
     "output_type": "execute_result"
    }
   ],
   "source": [
    "df.head()"
   ]
  },
  {
   "cell_type": "markdown",
   "id": "d888d7e4",
   "metadata": {
    "papermill": {
     "duration": 0.033681,
     "end_time": "2022-01-07T17:39:39.300778",
     "exception": false,
     "start_time": "2022-01-07T17:39:39.267097",
     "status": "completed"
    },
    "tags": []
   },
   "source": [
    "# Stopword Removal"
   ]
  },
  {
   "cell_type": "code",
   "execution_count": 21,
   "id": "fea2e93d",
   "metadata": {
    "execution": {
     "iopub.execute_input": "2022-01-07T17:39:39.367885Z",
     "iopub.status.busy": "2022-01-07T17:39:39.367196Z",
     "iopub.status.idle": "2022-01-07T17:39:39.369237Z",
     "shell.execute_reply": "2022-01-07T17:39:39.369629Z",
     "shell.execute_reply.started": "2022-01-07T17:21:14.535016Z"
    },
    "papermill": {
     "duration": 0.037117,
     "end_time": "2022-01-07T17:39:39.369781",
     "exception": false,
     "start_time": "2022-01-07T17:39:39.332664",
     "status": "completed"
    },
    "tags": []
   },
   "outputs": [],
   "source": [
    "def stop_it(text):\n",
    "    dt = [word for word in text if len(word)>2]\n",
    "    return dt"
   ]
  },
  {
   "cell_type": "code",
   "execution_count": 22,
   "id": "caba27fb",
   "metadata": {
    "execution": {
     "iopub.execute_input": "2022-01-07T17:39:39.433610Z",
     "iopub.status.busy": "2022-01-07T17:39:39.432816Z",
     "iopub.status.idle": "2022-01-07T17:39:42.805450Z",
     "shell.execute_reply": "2022-01-07T17:39:42.804948Z",
     "shell.execute_reply.started": "2022-01-07T17:21:14.543176Z"
    },
    "papermill": {
     "duration": 3.405376,
     "end_time": "2022-01-07T17:39:42.805585",
     "exception": false,
     "start_time": "2022-01-07T17:39:39.400209",
     "status": "completed"
    },
    "tags": []
   },
   "outputs": [],
   "source": [
    "df['text'] = df['text'].apply(stop_it)"
   ]
  },
  {
   "cell_type": "code",
   "execution_count": 23,
   "id": "7f50736a",
   "metadata": {
    "execution": {
     "iopub.execute_input": "2022-01-07T17:39:42.879155Z",
     "iopub.status.busy": "2022-01-07T17:39:42.878522Z",
     "iopub.status.idle": "2022-01-07T17:39:42.881363Z",
     "shell.execute_reply": "2022-01-07T17:39:42.881769Z",
     "shell.execute_reply.started": "2022-01-07T17:21:18.177186Z"
    },
    "papermill": {
     "duration": 0.045383,
     "end_time": "2022-01-07T17:39:42.881893",
     "exception": false,
     "start_time": "2022-01-07T17:39:42.836510",
     "status": "completed"
    },
    "tags": []
   },
   "outputs": [
    {
     "data": {
      "text/html": [
       "<div>\n",
       "<style scoped>\n",
       "    .dataframe tbody tr th:only-of-type {\n",
       "        vertical-align: middle;\n",
       "    }\n",
       "\n",
       "    .dataframe tbody tr th {\n",
       "        vertical-align: top;\n",
       "    }\n",
       "\n",
       "    .dataframe thead th {\n",
       "        text-align: right;\n",
       "    }\n",
       "</style>\n",
       "<table border=\"1\" class=\"dataframe\">\n",
       "  <thead>\n",
       "    <tr style=\"text-align: right;\">\n",
       "      <th></th>\n",
       "      <th>text</th>\n",
       "      <th>Target</th>\n",
       "    </tr>\n",
       "  </thead>\n",
       "  <tbody>\n",
       "    <tr>\n",
       "      <th>0</th>\n",
       "      <td>[barcelona, reuter, protest, clash, with, poli...</td>\n",
       "      <td>1</td>\n",
       "    </tr>\n",
       "    <tr>\n",
       "      <th>1</th>\n",
       "      <td>[new, york, reuter, front-runn, donald, trump,...</td>\n",
       "      <td>1</td>\n",
       "    </tr>\n",
       "    <tr>\n",
       "      <th>2</th>\n",
       "      <td>[career, crimin, profession, grifter, the, ult...</td>\n",
       "      <td>0</td>\n",
       "    </tr>\n",
       "    <tr>\n",
       "      <th>3</th>\n",
       "      <td>[after, was, reveal, the, leak, access, hollyw...</td>\n",
       "      <td>0</td>\n",
       "    </tr>\n",
       "    <tr>\n",
       "      <th>4</th>\n",
       "      <td>[after, friday, right-w, terror, attack, portl...</td>\n",
       "      <td>0</td>\n",
       "    </tr>\n",
       "  </tbody>\n",
       "</table>\n",
       "</div>"
      ],
      "text/plain": [
       "                                                text  Target\n",
       "0  [barcelona, reuter, protest, clash, with, poli...       1\n",
       "1  [new, york, reuter, front-runn, donald, trump,...       1\n",
       "2  [career, crimin, profession, grifter, the, ult...       0\n",
       "3  [after, was, reveal, the, leak, access, hollyw...       0\n",
       "4  [after, friday, right-w, terror, attack, portl...       0"
      ]
     },
     "execution_count": 23,
     "metadata": {},
     "output_type": "execute_result"
    }
   ],
   "source": [
    "df.head()"
   ]
  },
  {
   "cell_type": "code",
   "execution_count": 24,
   "id": "2626fafe",
   "metadata": {
    "execution": {
     "iopub.execute_input": "2022-01-07T17:39:42.947933Z",
     "iopub.status.busy": "2022-01-07T17:39:42.945510Z",
     "iopub.status.idle": "2022-01-07T17:39:43.702325Z",
     "shell.execute_reply": "2022-01-07T17:39:43.701810Z",
     "shell.execute_reply.started": "2022-01-07T17:25:38.147951Z"
    },
    "papermill": {
     "duration": 0.789462,
     "end_time": "2022-01-07T17:39:43.702449",
     "exception": false,
     "start_time": "2022-01-07T17:39:42.912987",
     "status": "completed"
    },
    "tags": []
   },
   "outputs": [],
   "source": [
    "df['text'] = df['text'].apply(''.join)"
   ]
  },
  {
   "cell_type": "markdown",
   "id": "23531d17",
   "metadata": {
    "papermill": {
     "duration": 0.030561,
     "end_time": "2022-01-07T17:39:43.764297",
     "exception": false,
     "start_time": "2022-01-07T17:39:43.733736",
     "status": "completed"
    },
    "tags": []
   },
   "source": [
    "# Splitting the Data"
   ]
  },
  {
   "cell_type": "code",
   "execution_count": 25,
   "id": "01e259a2",
   "metadata": {
    "execution": {
     "iopub.execute_input": "2022-01-07T17:39:43.832723Z",
     "iopub.status.busy": "2022-01-07T17:39:43.832073Z",
     "iopub.status.idle": "2022-01-07T17:39:43.839453Z",
     "shell.execute_reply": "2022-01-07T17:39:43.839056Z",
     "shell.execute_reply.started": "2022-01-07T17:27:47.198300Z"
    },
    "papermill": {
     "duration": 0.044739,
     "end_time": "2022-01-07T17:39:43.839559",
     "exception": false,
     "start_time": "2022-01-07T17:39:43.794820",
     "status": "completed"
    },
    "tags": []
   },
   "outputs": [],
   "source": [
    "x = df.text\n",
    "y = df.Target\n",
    "x_train, x_test, y_train, y_test = train_test_split(x, y, test_size = 0.25, random_state = 1)"
   ]
  },
  {
   "cell_type": "markdown",
   "id": "4e3e1263",
   "metadata": {
    "papermill": {
     "duration": 0.031158,
     "end_time": "2022-01-07T17:39:43.905423",
     "exception": false,
     "start_time": "2022-01-07T17:39:43.874265",
     "status": "completed"
    },
    "tags": []
   },
   "source": [
    "# Vectorization"
   ]
  },
  {
   "cell_type": "code",
   "execution_count": 26,
   "id": "3813b5aa",
   "metadata": {
    "execution": {
     "iopub.execute_input": "2022-01-07T17:39:44.021015Z",
     "iopub.status.busy": "2022-01-07T17:39:43.985073Z",
     "iopub.status.idle": "2022-01-07T17:39:46.384750Z",
     "shell.execute_reply": "2022-01-07T17:39:46.384235Z",
     "shell.execute_reply.started": "2022-01-07T17:27:51.526582Z"
    },
    "papermill": {
     "duration": 2.448837,
     "end_time": "2022-01-07T17:39:46.384894",
     "exception": false,
     "start_time": "2022-01-07T17:39:43.936057",
     "status": "completed"
    },
    "tags": []
   },
   "outputs": [],
   "source": [
    "Tfidf = TfidfVectorizer(max_df=0.7)\n",
    "tfidf_train = Tfidf.fit_transform(x_train)\n",
    "tfidf_test = Tfidf.transform(x_test)"
   ]
  },
  {
   "cell_type": "code",
   "execution_count": 27,
   "id": "b3cabd3d",
   "metadata": {
    "execution": {
     "iopub.execute_input": "2022-01-07T17:39:46.451001Z",
     "iopub.status.busy": "2022-01-07T17:39:46.450367Z",
     "iopub.status.idle": "2022-01-07T17:39:46.459051Z",
     "shell.execute_reply": "2022-01-07T17:39:46.458575Z",
     "shell.execute_reply.started": "2022-01-07T17:27:57.130581Z"
    },
    "papermill": {
     "duration": 0.042988,
     "end_time": "2022-01-07T17:39:46.459173",
     "exception": false,
     "start_time": "2022-01-07T17:39:46.416185",
     "status": "completed"
    },
    "tags": []
   },
   "outputs": [
    {
     "name": "stdout",
     "output_type": "stream",
     "text": [
      "  (0, 138402)\t0.7071067811865475\n",
      "  (0, 158399)\t0.7071067811865475\n",
      "  (1, 99233)\t0.7071067811865475\n",
      "  (1, 207674)\t0.7071067811865475\n",
      "  (2, 101918)\t0.16500068058122702\n",
      "  (2, 144313)\t0.16500068058122702\n",
      "  (2, 262158)\t0.16500068058122702\n",
      "  (2, 250775)\t0.16500068058122702\n",
      "  (2, 254137)\t0.16500068058122702\n",
      "  (2, 257246)\t0.16500068058122702\n",
      "  (2, 36604)\t0.16500068058122702\n",
      "  (2, 51726)\t0.15683801887743928\n",
      "  (2, 82248)\t0.31367603775487857\n",
      "  (2, 60910)\t0.29865533226715646\n",
      "  (2, 281724)\t0.1428485970419055\n",
      "  (2, 75471)\t0.15683801887743928\n",
      "  (2, 57496)\t0.15683801887743928\n",
      "  (2, 96571)\t0.15683801887743928\n",
      "  (2, 169750)\t0.15683801887743928\n",
      "  (2, 279968)\t0.15683801887743928\n",
      "  (2, 46492)\t0.16500068058122702\n",
      "  (2, 120278)\t0.16500068058122702\n",
      "  (2, 173621)\t0.10405475697195324\n",
      "  (2, 38339)\t0.16500068058122702\n",
      "  (2, 228644)\t0.15683801887743928\n",
      "  :\t:\n",
      "  (33670, 250543)\t0.22272314889924785\n",
      "  (33670, 178923)\t0.22272314889924785\n",
      "  (33670, 201227)\t0.22272314889924785\n",
      "  (33670, 54194)\t0.22272314889924785\n",
      "  (33670, 92452)\t0.22272314889924785\n",
      "  (33670, 202628)\t0.22272314889924785\n",
      "  (33670, 92536)\t0.22272314889924785\n",
      "  (33670, 169048)\t0.22272314889924785\n",
      "  (33670, 176100)\t0.22272314889924785\n",
      "  (33670, 147734)\t0.22272314889924785\n",
      "  (33670, 165159)\t0.22272314889924785\n",
      "  (33670, 41825)\t0.22272314889924785\n",
      "  (33670, 139712)\t0.22272314889924785\n",
      "  (33670, 187064)\t0.22272314889924785\n",
      "  (33670, 268064)\t0.08881429439042578\n",
      "  (33671, 120577)\t0.40824829046386296\n",
      "  (33671, 113458)\t0.40824829046386296\n",
      "  (33671, 120032)\t0.40824829046386296\n",
      "  (33671, 9299)\t0.40824829046386296\n",
      "  (33671, 164833)\t0.40824829046386296\n",
      "  (33671, 155517)\t0.40824829046386296\n",
      "  (33672, 209578)\t0.6422881996104407\n",
      "  (33672, 89556)\t0.6422881996104407\n",
      "  (33672, 188208)\t0.33065553999845215\n",
      "  (33672, 268064)\t0.2561223362978902\n"
     ]
    }
   ],
   "source": [
    "print(tfidf_train)"
   ]
  },
  {
   "cell_type": "markdown",
   "id": "6d397228",
   "metadata": {
    "papermill": {
     "duration": 0.030669,
     "end_time": "2022-01-07T17:39:46.520550",
     "exception": false,
     "start_time": "2022-01-07T17:39:46.489881",
     "status": "completed"
    },
    "tags": []
   },
   "source": [
    "# Logistic Regression"
   ]
  },
  {
   "cell_type": "code",
   "execution_count": 28,
   "id": "8f4c188b",
   "metadata": {
    "execution": {
     "iopub.execute_input": "2022-01-07T17:39:46.587190Z",
     "iopub.status.busy": "2022-01-07T17:39:46.586501Z",
     "iopub.status.idle": "2022-01-07T17:39:49.090237Z",
     "shell.execute_reply": "2022-01-07T17:39:49.091121Z",
     "shell.execute_reply.started": "2022-01-07T17:28:01.896494Z"
    },
    "papermill": {
     "duration": 2.540107,
     "end_time": "2022-01-07T17:39:49.091401",
     "exception": false,
     "start_time": "2022-01-07T17:39:46.551294",
     "status": "completed"
    },
    "tags": []
   },
   "outputs": [
    {
     "name": "stdout",
     "output_type": "stream",
     "text": [
      "Accuracy 86.0 %\n"
     ]
    }
   ],
   "source": [
    "lr = LogisticRegression(max_iter=900)\n",
    "lr.fit(tfidf_train, y_train)\n",
    "lr_pred = lr.predict(tfidf_test)\n",
    "accuracy = round(accuracy_score(y_test, lr_pred), 2)*100\n",
    "print('Accuracy', accuracy, '%')"
   ]
  },
  {
   "cell_type": "markdown",
   "id": "4e249adc",
   "metadata": {
    "papermill": {
     "duration": 0.05105,
     "end_time": "2022-01-07T17:39:49.201644",
     "exception": false,
     "start_time": "2022-01-07T17:39:49.150594",
     "status": "completed"
    },
    "tags": []
   },
   "source": [
    "# Decision Tree Classifier"
   ]
  },
  {
   "cell_type": "code",
   "execution_count": 29,
   "id": "430df0e7",
   "metadata": {
    "execution": {
     "iopub.execute_input": "2022-01-07T17:39:49.269785Z",
     "iopub.status.busy": "2022-01-07T17:39:49.269006Z",
     "iopub.status.idle": "2022-01-07T17:42:46.083011Z",
     "shell.execute_reply": "2022-01-07T17:42:46.083731Z",
     "shell.execute_reply.started": "2022-01-07T17:28:09.553790Z"
    },
    "papermill": {
     "duration": 176.850801,
     "end_time": "2022-01-07T17:42:46.083952",
     "exception": false,
     "start_time": "2022-01-07T17:39:49.233151",
     "status": "completed"
    },
    "tags": []
   },
   "outputs": [
    {
     "name": "stdout",
     "output_type": "stream",
     "text": [
      "Accuracy: 69.0 %\n"
     ]
    }
   ],
   "source": [
    "dt = DecisionTreeClassifier()\n",
    "dt.fit(tfidf_train, y_train)\n",
    "dt_pred = dt.predict(tfidf_test)\n",
    "accuracy = round(accuracy_score(y_test, dt_pred), 2)*100\n",
    "print('Accuracy:', accuracy, '%')"
   ]
  },
  {
   "cell_type": "markdown",
   "id": "0e3e8ac1",
   "metadata": {
    "papermill": {
     "duration": 0.03118,
     "end_time": "2022-01-07T17:42:46.147438",
     "exception": false,
     "start_time": "2022-01-07T17:42:46.116258",
     "status": "completed"
    },
    "tags": []
   },
   "source": [
    "# PassiveAggressive Classifier"
   ]
  },
  {
   "cell_type": "code",
   "execution_count": 30,
   "id": "88c8f025",
   "metadata": {
    "execution": {
     "iopub.execute_input": "2022-01-07T17:42:46.215330Z",
     "iopub.status.busy": "2022-01-07T17:42:46.214463Z",
     "iopub.status.idle": "2022-01-07T17:42:46.308477Z",
     "shell.execute_reply": "2022-01-07T17:42:46.309481Z",
     "shell.execute_reply.started": "2022-01-07T17:31:26.390805Z"
    },
    "papermill": {
     "duration": 0.131037,
     "end_time": "2022-01-07T17:42:46.309763",
     "exception": false,
     "start_time": "2022-01-07T17:42:46.178726",
     "status": "completed"
    },
    "tags": []
   },
   "outputs": [
    {
     "name": "stdout",
     "output_type": "stream",
     "text": [
      "Accuracy: 87.0 %\n"
     ]
    }
   ],
   "source": [
    "pa = PassiveAggressiveClassifier(max_iter = 1000)\n",
    "pa.fit(tfidf_train, y_train)\n",
    "pa_pred = pa.predict(tfidf_test)\n",
    "accuracy = round(accuracy_score(y_test, pa_pred), 2)*100\n",
    "print(\"Accuracy:\", accuracy, \"%\")"
   ]
  },
  {
   "cell_type": "markdown",
   "id": "db233f2b",
   "metadata": {
    "papermill": {
     "duration": 0.031526,
     "end_time": "2022-01-07T17:42:46.398135",
     "exception": false,
     "start_time": "2022-01-07T17:42:46.366609",
     "status": "completed"
    },
    "tags": []
   },
   "source": [
    "# Predictive Model"
   ]
  },
  {
   "cell_type": "code",
   "execution_count": 31,
   "id": "f2a6e6ea",
   "metadata": {
    "execution": {
     "iopub.execute_input": "2022-01-07T17:42:46.467720Z",
     "iopub.status.busy": "2022-01-07T17:42:46.466835Z",
     "iopub.status.idle": "2022-01-07T17:42:46.473177Z",
     "shell.execute_reply": "2022-01-07T17:42:46.473760Z",
     "shell.execute_reply.started": "2022-01-07T17:31:29.366381Z"
    },
    "papermill": {
     "duration": 0.044306,
     "end_time": "2022-01-07T17:42:46.473930",
     "exception": false,
     "start_time": "2022-01-07T17:42:46.429624",
     "status": "completed"
    },
    "tags": []
   },
   "outputs": [
    {
     "name": "stdout",
     "output_type": "stream",
     "text": [
      "News is FALSE\n"
     ]
    }
   ],
   "source": [
    "input_news = ['Republicans have had seven years to come up with a viable replacement for Obamacare but they failed miserably. After taking a victory lap for gifting the wealthy with a tax break on Wednesday, Donald Trump looked at the cameras and said,  We have essentially repealed Obamacare and we will come up with something that will be much better. Obamacare has been repealed in this bill,  he added. Well, like most things Trump says, that s just not true. But, if the former reality show star could have done that in order to eradicate former President Obama s signature legislation, he would have and without offering an alternative.Senate Majority Leader Mitch McConnell told NPR that  This has not been a very bipartisan year. I hope in the new year, we re going to pivot here and become more cooperative. An Obamacare repeal in 2018 is DOA. Well, we obviously were unable to completely repeal and replace with a 52-48 Senate,  the Kentucky Republican said.  We ll have to take a look at what that looks like with a 51-49 Senate. But I think we ll probably move on to other issues. NPR reports:McConnell hopes to focus instead on stabilizing the insurance marketplaces to keep premiums from skyrocketing in the early months of 2018, a promise he made to moderate Republican Sen. Susan Collins of Maine to get her support for the tax bill.On top of that McConnell broke with House Speaker Paul Ryan, R-Wis., on the approach to paring back spending on programs like Medicaid and food stamps. McConnell told NPR he is  not interested  in using Senate budget rules to allow Republicans to cut entitlements without consultation with Democrats. I think entitlement changes, to be sustained, almost always have to be bipartisan,  McConnell said.  The House may have a different agenda. If our Democratic friends in the Senate want to join us to tackle any kind of entitlement reform. I d be happy to take a look at it. This is coming from Mitch McConnell. He knows Donald Trump is destroying the GOP. It doesn t matter, Sen. McConnell. We still recall him saying that his  number one priority is making sure president Obama s a one-term president. Well, we re hoping that Trump doesn t last a full term. Funny how that works.Photo by Chip Somodevilla/Getty Images']\n",
    "transformed_data = Tfidf.transform(input_news)\n",
    "\n",
    "prediction = pa.predict(transformed_data)\n",
    "if (prediction == 1):\n",
    "    print(\"News is TRUE\")\n",
    "else:\n",
    "    print(\"News is FALSE\")"
   ]
  },
  {
   "cell_type": "code",
   "execution_count": null,
   "id": "22effa95",
   "metadata": {
    "papermill": {
     "duration": 0.031843,
     "end_time": "2022-01-07T17:42:46.540033",
     "exception": false,
     "start_time": "2022-01-07T17:42:46.508190",
     "status": "completed"
    },
    "tags": []
   },
   "outputs": [],
   "source": []
  }
 ],
 "metadata": {
  "kernelspec": {
   "display_name": "Python 3",
   "language": "python",
   "name": "python3"
  },
  "language_info": {
   "codemirror_mode": {
    "name": "ipython",
    "version": 3
   },
   "file_extension": ".py",
   "mimetype": "text/x-python",
   "name": "python",
   "nbconvert_exporter": "python",
   "pygments_lexer": "ipython3",
   "version": "3.7.12"
  },
  "papermill": {
   "default_parameters": {},
   "duration": 643.939667,
   "end_time": "2022-01-07T17:42:47.383037",
   "environment_variables": {},
   "exception": null,
   "input_path": "__notebook__.ipynb",
   "output_path": "__notebook__.ipynb",
   "parameters": {},
   "start_time": "2022-01-07T17:32:03.443370",
   "version": "2.3.3"
  }
 },
 "nbformat": 4,
 "nbformat_minor": 5
}
